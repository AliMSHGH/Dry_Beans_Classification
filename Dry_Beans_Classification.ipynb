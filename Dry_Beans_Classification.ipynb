{
 "cells": [
  {
   "attachments": {},
   "cell_type": "markdown",
   "metadata": {},
   "source": [
    "# Classification of bean types"
   ]
  },
  {
   "attachments": {},
   "cell_type": "markdown",
   "metadata": {},
   "source": [
    "## Importing libraries:"
   ]
  },
  {
   "cell_type": "code",
   "execution_count": 2,
   "metadata": {},
   "outputs": [],
   "source": [
    "import pandas as pd\n",
    "import numpy as np\n",
    "import openpyxl\n",
    "import seaborn as sns\n",
    "from sklearn.preprocessing import StandardScaler\n",
    "from sklearn.preprocessing import MinMaxScaler\n",
    "from sklearn.model_selection import train_test_split\n",
    "from sklearn.linear_model import LogisticRegression \n",
    "from sklearn.metrics import accuracy_score\n",
    "from sklearn.model_selection import GridSearchCV\n",
    "from sklearn.metrics import confusion_matrix\n",
    "import matplotlib.pyplot as plt\n",
    "from sklearn.tree import DecisionTreeClassifier\n",
    "from sklearn.svm import SVC \n",
    "from sklearn.neighbors import KNeighborsClassifier\n",
    "import xgboost as xgb\n",
    "from sklearn.preprocessing import LabelEncoder\n",
    "import joblib"
   ]
  },
  {
   "attachments": {},
   "cell_type": "markdown",
   "metadata": {},
   "source": [
    "## Loading data:"
   ]
  },
  {
   "cell_type": "code",
   "execution_count": 5,
   "metadata": {},
   "outputs": [
    {
     "data": {
      "text/html": [
       "<div>\n",
       "<style scoped>\n",
       "    .dataframe tbody tr th:only-of-type {\n",
       "        vertical-align: middle;\n",
       "    }\n",
       "\n",
       "    .dataframe tbody tr th {\n",
       "        vertical-align: top;\n",
       "    }\n",
       "\n",
       "    .dataframe thead th {\n",
       "        text-align: right;\n",
       "    }\n",
       "</style>\n",
       "<table border=\"1\" class=\"dataframe\">\n",
       "  <thead>\n",
       "    <tr style=\"text-align: right;\">\n",
       "      <th></th>\n",
       "      <th>Area</th>\n",
       "      <th>Perimeter</th>\n",
       "      <th>MajorAxisLength</th>\n",
       "      <th>MinorAxisLength</th>\n",
       "      <th>AspectRation</th>\n",
       "      <th>Eccentricity</th>\n",
       "      <th>ConvexArea</th>\n",
       "      <th>EquivDiameter</th>\n",
       "      <th>Extent</th>\n",
       "      <th>Solidity</th>\n",
       "      <th>roundness</th>\n",
       "      <th>Compactness</th>\n",
       "      <th>ShapeFactor1</th>\n",
       "      <th>ShapeFactor2</th>\n",
       "      <th>ShapeFactor3</th>\n",
       "      <th>ShapeFactor4</th>\n",
       "      <th>Class</th>\n",
       "    </tr>\n",
       "  </thead>\n",
       "  <tbody>\n",
       "    <tr>\n",
       "      <th>3402</th>\n",
       "      <td>144704</td>\n",
       "      <td>1442.997</td>\n",
       "      <td>545.110749</td>\n",
       "      <td>338.957573</td>\n",
       "      <td>1.608198</td>\n",
       "      <td>0.783165</td>\n",
       "      <td>145929</td>\n",
       "      <td>429.235198</td>\n",
       "      <td>0.759709</td>\n",
       "      <td>0.991606</td>\n",
       "      <td>0.873292</td>\n",
       "      <td>0.787428</td>\n",
       "      <td>0.003767</td>\n",
       "      <td>0.000893</td>\n",
       "      <td>0.620042</td>\n",
       "      <td>0.997150</td>\n",
       "      <td>BOMBAY</td>\n",
       "    </tr>\n",
       "    <tr>\n",
       "      <th>307</th>\n",
       "      <td>35149</td>\n",
       "      <td>682.373</td>\n",
       "      <td>238.929221</td>\n",
       "      <td>187.422334</td>\n",
       "      <td>1.274817</td>\n",
       "      <td>0.620222</td>\n",
       "      <td>35509</td>\n",
       "      <td>211.549277</td>\n",
       "      <td>0.782550</td>\n",
       "      <td>0.989862</td>\n",
       "      <td>0.948591</td>\n",
       "      <td>0.885406</td>\n",
       "      <td>0.006798</td>\n",
       "      <td>0.002577</td>\n",
       "      <td>0.783943</td>\n",
       "      <td>0.999384</td>\n",
       "      <td>SEKER</td>\n",
       "    </tr>\n",
       "    <tr>\n",
       "      <th>10819</th>\n",
       "      <td>27980</td>\n",
       "      <td>613.770</td>\n",
       "      <td>220.763272</td>\n",
       "      <td>161.972863</td>\n",
       "      <td>1.362965</td>\n",
       "      <td>0.679479</td>\n",
       "      <td>28333</td>\n",
       "      <td>188.746503</td>\n",
       "      <td>0.818559</td>\n",
       "      <td>0.987541</td>\n",
       "      <td>0.933354</td>\n",
       "      <td>0.854972</td>\n",
       "      <td>0.007890</td>\n",
       "      <td>0.002601</td>\n",
       "      <td>0.730978</td>\n",
       "      <td>0.996297</td>\n",
       "      <td>DERMASON</td>\n",
       "    </tr>\n",
       "    <tr>\n",
       "      <th>12370</th>\n",
       "      <td>34006</td>\n",
       "      <td>678.783</td>\n",
       "      <td>253.599988</td>\n",
       "      <td>170.973454</td>\n",
       "      <td>1.483271</td>\n",
       "      <td>0.738562</td>\n",
       "      <td>34347</td>\n",
       "      <td>208.081196</td>\n",
       "      <td>0.800141</td>\n",
       "      <td>0.990072</td>\n",
       "      <td>0.927478</td>\n",
       "      <td>0.820509</td>\n",
       "      <td>0.007458</td>\n",
       "      <td>0.002085</td>\n",
       "      <td>0.673236</td>\n",
       "      <td>0.998591</td>\n",
       "      <td>DERMASON</td>\n",
       "    </tr>\n",
       "    <tr>\n",
       "      <th>5992</th>\n",
       "      <td>48997</td>\n",
       "      <td>877.282</td>\n",
       "      <td>355.210446</td>\n",
       "      <td>176.284192</td>\n",
       "      <td>2.014988</td>\n",
       "      <td>0.868162</td>\n",
       "      <td>49611</td>\n",
       "      <td>249.769730</td>\n",
       "      <td>0.786342</td>\n",
       "      <td>0.987624</td>\n",
       "      <td>0.800020</td>\n",
       "      <td>0.703160</td>\n",
       "      <td>0.007250</td>\n",
       "      <td>0.001093</td>\n",
       "      <td>0.494434</td>\n",
       "      <td>0.996278</td>\n",
       "      <td>HOROZ</td>\n",
       "    </tr>\n",
       "  </tbody>\n",
       "</table>\n",
       "</div>"
      ],
      "text/plain": [
       "         Area  Perimeter  MajorAxisLength  MinorAxisLength  AspectRation  \\\n",
       "3402   144704   1442.997       545.110749       338.957573      1.608198   \n",
       "307     35149    682.373       238.929221       187.422334      1.274817   \n",
       "10819   27980    613.770       220.763272       161.972863      1.362965   \n",
       "12370   34006    678.783       253.599988       170.973454      1.483271   \n",
       "5992    48997    877.282       355.210446       176.284192      2.014988   \n",
       "\n",
       "       Eccentricity  ConvexArea  EquivDiameter    Extent  Solidity  roundness  \\\n",
       "3402       0.783165      145929     429.235198  0.759709  0.991606   0.873292   \n",
       "307        0.620222       35509     211.549277  0.782550  0.989862   0.948591   \n",
       "10819      0.679479       28333     188.746503  0.818559  0.987541   0.933354   \n",
       "12370      0.738562       34347     208.081196  0.800141  0.990072   0.927478   \n",
       "5992       0.868162       49611     249.769730  0.786342  0.987624   0.800020   \n",
       "\n",
       "       Compactness  ShapeFactor1  ShapeFactor2  ShapeFactor3  ShapeFactor4  \\\n",
       "3402      0.787428      0.003767      0.000893      0.620042      0.997150   \n",
       "307       0.885406      0.006798      0.002577      0.783943      0.999384   \n",
       "10819     0.854972      0.007890      0.002601      0.730978      0.996297   \n",
       "12370     0.820509      0.007458      0.002085      0.673236      0.998591   \n",
       "5992      0.703160      0.007250      0.001093      0.494434      0.996278   \n",
       "\n",
       "          Class  \n",
       "3402     BOMBAY  \n",
       "307       SEKER  \n",
       "10819  DERMASON  \n",
       "12370  DERMASON  \n",
       "5992      HOROZ  "
      ]
     },
     "execution_count": 5,
     "metadata": {},
     "output_type": "execute_result"
    }
   ],
   "source": [
    "Dry_Bean_Dataset = pd.read_excel(\"Data/Dry_Bean_Dataset.xlsx\")  \n",
    "dryBean_df= Dry_Bean_Dataset.copy()\n",
    "dryBean_df.sample(5)"
   ]
  },
  {
   "cell_type": "code",
   "execution_count": 6,
   "metadata": {},
   "outputs": [
    {
     "name": "stdout",
     "output_type": "stream",
     "text": [
      "<class 'pandas.core.frame.DataFrame'>\n",
      "RangeIndex: 13611 entries, 0 to 13610\n",
      "Data columns (total 17 columns):\n",
      " #   Column           Non-Null Count  Dtype  \n",
      "---  ------           --------------  -----  \n",
      " 0   Area             13611 non-null  int64  \n",
      " 1   Perimeter        13611 non-null  float64\n",
      " 2   MajorAxisLength  13611 non-null  float64\n",
      " 3   MinorAxisLength  13611 non-null  float64\n",
      " 4   AspectRation     13611 non-null  float64\n",
      " 5   Eccentricity     13611 non-null  float64\n",
      " 6   ConvexArea       13611 non-null  int64  \n",
      " 7   EquivDiameter    13611 non-null  float64\n",
      " 8   Extent           13611 non-null  float64\n",
      " 9   Solidity         13611 non-null  float64\n",
      " 10  roundness        13611 non-null  float64\n",
      " 11  Compactness      13611 non-null  float64\n",
      " 12  ShapeFactor1     13611 non-null  float64\n",
      " 13  ShapeFactor2     13611 non-null  float64\n",
      " 14  ShapeFactor3     13611 non-null  float64\n",
      " 15  ShapeFactor4     13611 non-null  float64\n",
      " 16  Class            13611 non-null  object \n",
      "dtypes: float64(14), int64(2), object(1)\n",
      "memory usage: 1.8+ MB\n"
     ]
    }
   ],
   "source": [
    "dryBean_df.info()"
   ]
  },
  {
   "cell_type": "code",
   "execution_count": 7,
   "metadata": {},
   "outputs": [
    {
     "data": {
      "text/plain": [
       "Area               0\n",
       "Perimeter          0\n",
       "MajorAxisLength    0\n",
       "MinorAxisLength    0\n",
       "AspectRation       0\n",
       "Eccentricity       0\n",
       "ConvexArea         0\n",
       "EquivDiameter      0\n",
       "Extent             0\n",
       "Solidity           0\n",
       "roundness          0\n",
       "Compactness        0\n",
       "ShapeFactor1       0\n",
       "ShapeFactor2       0\n",
       "ShapeFactor3       0\n",
       "ShapeFactor4       0\n",
       "Class              0\n",
       "dtype: int64"
      ]
     },
     "execution_count": 7,
     "metadata": {},
     "output_type": "execute_result"
    }
   ],
   "source": [
    "dryBean_df.isnull().sum()"
   ]
  },
  {
   "cell_type": "code",
   "execution_count": 8,
   "metadata": {},
   "outputs": [
    {
     "data": {
      "text/plain": [
       "0"
      ]
     },
     "execution_count": 8,
     "metadata": {},
     "output_type": "execute_result"
    }
   ],
   "source": [
    "dryBean_df= dryBean_df.drop_duplicates()\n",
    "dryBean_df.duplicated().sum()"
   ]
  }
 ],
 "metadata": {
  "kernelspec": {
   "display_name": "vg01",
   "language": "python",
   "name": "python3"
  },
  "language_info": {
   "codemirror_mode": {
    "name": "ipython",
    "version": 3
   },
   "file_extension": ".py",
   "mimetype": "text/x-python",
   "name": "python",
   "nbconvert_exporter": "python",
   "pygments_lexer": "ipython3",
   "version": "3.12.4"
  },
  "orig_nbformat": 4
 },
 "nbformat": 4,
 "nbformat_minor": 2
}
